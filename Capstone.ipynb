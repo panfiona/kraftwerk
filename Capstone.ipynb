{
 "cells": [
  {
   "cell_type": "code",
   "execution_count": 20,
   "id": "90dba535",
   "metadata": {},
   "outputs": [],
   "source": [
    "import pandas as pd\n",
    "from sklearn.model_selection import train_test_split\n",
    "from sklearn.preprocessing import OneHotEncoder, PolynomialFeatures\n",
    "from sklearn.linear_model import LinearRegression\n",
    "from sklearn.pipeline import Pipeline\n",
    "from sklearn.metrics import mean_squared_error "
   ]
  },
  {
   "cell_type": "markdown",
   "id": "1c232511",
   "metadata": {},
   "source": [
    "Load the dataset from a csv file. This csv file has five features, which determined the PCB trace impedance Zo. The sweeping features are H1, Er1. "
   ]
  },
  {
   "cell_type": "code",
   "execution_count": 9,
   "id": "4ce29a05",
   "metadata": {},
   "outputs": [
    {
     "data": {
      "text/html": [
       "<div>\n",
       "<style scoped>\n",
       "    .dataframe tbody tr th:only-of-type {\n",
       "        vertical-align: middle;\n",
       "    }\n",
       "\n",
       "    .dataframe tbody tr th {\n",
       "        vertical-align: top;\n",
       "    }\n",
       "\n",
       "    .dataframe thead th {\n",
       "        text-align: right;\n",
       "    }\n",
       "</style>\n",
       "<table border=\"1\" class=\"dataframe\">\n",
       "  <thead>\n",
       "    <tr style=\"text-align: right;\">\n",
       "      <th></th>\n",
       "      <th>H1</th>\n",
       "      <th>Er1</th>\n",
       "      <th>W1</th>\n",
       "      <th>W2</th>\n",
       "      <th>T1</th>\n",
       "      <th>Zo</th>\n",
       "    </tr>\n",
       "  </thead>\n",
       "  <tbody>\n",
       "    <tr>\n",
       "      <th>0</th>\n",
       "      <td>2.0</td>\n",
       "      <td>3.0</td>\n",
       "      <td>4</td>\n",
       "      <td>3.5</td>\n",
       "      <td>0.7</td>\n",
       "      <td>54.1491</td>\n",
       "    </tr>\n",
       "    <tr>\n",
       "      <th>1</th>\n",
       "      <td>2.1</td>\n",
       "      <td>3.0</td>\n",
       "      <td>4</td>\n",
       "      <td>3.5</td>\n",
       "      <td>0.7</td>\n",
       "      <td>55.7520</td>\n",
       "    </tr>\n",
       "    <tr>\n",
       "      <th>2</th>\n",
       "      <td>2.2</td>\n",
       "      <td>3.0</td>\n",
       "      <td>4</td>\n",
       "      <td>3.5</td>\n",
       "      <td>0.7</td>\n",
       "      <td>57.2776</td>\n",
       "    </tr>\n",
       "    <tr>\n",
       "      <th>3</th>\n",
       "      <td>2.3</td>\n",
       "      <td>3.0</td>\n",
       "      <td>4</td>\n",
       "      <td>3.5</td>\n",
       "      <td>0.7</td>\n",
       "      <td>58.7739</td>\n",
       "    </tr>\n",
       "    <tr>\n",
       "      <th>4</th>\n",
       "      <td>2.4</td>\n",
       "      <td>3.0</td>\n",
       "      <td>4</td>\n",
       "      <td>3.5</td>\n",
       "      <td>0.7</td>\n",
       "      <td>60.2150</td>\n",
       "    </tr>\n",
       "    <tr>\n",
       "      <th>...</th>\n",
       "      <td>...</td>\n",
       "      <td>...</td>\n",
       "      <td>...</td>\n",
       "      <td>...</td>\n",
       "      <td>...</td>\n",
       "      <td>...</td>\n",
       "    </tr>\n",
       "    <tr>\n",
       "      <th>1436</th>\n",
       "      <td>14.6</td>\n",
       "      <td>5.0</td>\n",
       "      <td>4</td>\n",
       "      <td>3.5</td>\n",
       "      <td>0.7</td>\n",
       "      <td>106.1021</td>\n",
       "    </tr>\n",
       "    <tr>\n",
       "      <th>1437</th>\n",
       "      <td>14.7</td>\n",
       "      <td>5.0</td>\n",
       "      <td>4</td>\n",
       "      <td>3.5</td>\n",
       "      <td>0.7</td>\n",
       "      <td>106.3336</td>\n",
       "    </tr>\n",
       "    <tr>\n",
       "      <th>1438</th>\n",
       "      <td>14.8</td>\n",
       "      <td>5.0</td>\n",
       "      <td>4</td>\n",
       "      <td>3.5</td>\n",
       "      <td>0.7</td>\n",
       "      <td>106.5678</td>\n",
       "    </tr>\n",
       "    <tr>\n",
       "      <th>1439</th>\n",
       "      <td>14.9</td>\n",
       "      <td>5.0</td>\n",
       "      <td>4</td>\n",
       "      <td>3.5</td>\n",
       "      <td>0.7</td>\n",
       "      <td>106.7964</td>\n",
       "    </tr>\n",
       "    <tr>\n",
       "      <th>1440</th>\n",
       "      <td>15.0</td>\n",
       "      <td>5.0</td>\n",
       "      <td>4</td>\n",
       "      <td>3.5</td>\n",
       "      <td>0.7</td>\n",
       "      <td>107.0146</td>\n",
       "    </tr>\n",
       "  </tbody>\n",
       "</table>\n",
       "<p>1441 rows × 6 columns</p>\n",
       "</div>"
      ],
      "text/plain": [
       "        H1  Er1  W1   W2   T1        Zo\n",
       "0      2.0  3.0   4  3.5  0.7   54.1491\n",
       "1      2.1  3.0   4  3.5  0.7   55.7520\n",
       "2      2.2  3.0   4  3.5  0.7   57.2776\n",
       "3      2.3  3.0   4  3.5  0.7   58.7739\n",
       "4      2.4  3.0   4  3.5  0.7   60.2150\n",
       "...    ...  ...  ..  ...  ...       ...\n",
       "1436  14.6  5.0   4  3.5  0.7  106.1021\n",
       "1437  14.7  5.0   4  3.5  0.7  106.3336\n",
       "1438  14.8  5.0   4  3.5  0.7  106.5678\n",
       "1439  14.9  5.0   4  3.5  0.7  106.7964\n",
       "1440  15.0  5.0   4  3.5  0.7  107.0146\n",
       "\n",
       "[1441 rows x 6 columns]"
      ]
     },
     "execution_count": 9,
     "metadata": {},
     "output_type": "execute_result"
    }
   ],
   "source": [
    "data = pd.read_csv('MicroStrip_Training_H_ER.csv')\n",
    "data"
   ]
  },
  {
   "cell_type": "markdown",
   "id": "aec8065c",
   "metadata": {},
   "source": [
    "Because the sweeping features are only H1, Er1. So just make H1 and Er1 as the training featuers."
   ]
  },
  {
   "cell_type": "code",
   "execution_count": 10,
   "id": "ff53e484",
   "metadata": {},
   "outputs": [
    {
     "data": {
      "text/html": [
       "<div>\n",
       "<style scoped>\n",
       "    .dataframe tbody tr th:only-of-type {\n",
       "        vertical-align: middle;\n",
       "    }\n",
       "\n",
       "    .dataframe tbody tr th {\n",
       "        vertical-align: top;\n",
       "    }\n",
       "\n",
       "    .dataframe thead th {\n",
       "        text-align: right;\n",
       "    }\n",
       "</style>\n",
       "<table border=\"1\" class=\"dataframe\">\n",
       "  <thead>\n",
       "    <tr style=\"text-align: right;\">\n",
       "      <th></th>\n",
       "      <th>H1</th>\n",
       "      <th>Er1</th>\n",
       "      <th>Zo</th>\n",
       "    </tr>\n",
       "  </thead>\n",
       "  <tbody>\n",
       "    <tr>\n",
       "      <th>0</th>\n",
       "      <td>2.0</td>\n",
       "      <td>3.0</td>\n",
       "      <td>54.1491</td>\n",
       "    </tr>\n",
       "    <tr>\n",
       "      <th>1</th>\n",
       "      <td>2.1</td>\n",
       "      <td>3.0</td>\n",
       "      <td>55.7520</td>\n",
       "    </tr>\n",
       "    <tr>\n",
       "      <th>2</th>\n",
       "      <td>2.2</td>\n",
       "      <td>3.0</td>\n",
       "      <td>57.2776</td>\n",
       "    </tr>\n",
       "    <tr>\n",
       "      <th>3</th>\n",
       "      <td>2.3</td>\n",
       "      <td>3.0</td>\n",
       "      <td>58.7739</td>\n",
       "    </tr>\n",
       "    <tr>\n",
       "      <th>4</th>\n",
       "      <td>2.4</td>\n",
       "      <td>3.0</td>\n",
       "      <td>60.2150</td>\n",
       "    </tr>\n",
       "    <tr>\n",
       "      <th>...</th>\n",
       "      <td>...</td>\n",
       "      <td>...</td>\n",
       "      <td>...</td>\n",
       "    </tr>\n",
       "    <tr>\n",
       "      <th>1436</th>\n",
       "      <td>14.6</td>\n",
       "      <td>5.0</td>\n",
       "      <td>106.1021</td>\n",
       "    </tr>\n",
       "    <tr>\n",
       "      <th>1437</th>\n",
       "      <td>14.7</td>\n",
       "      <td>5.0</td>\n",
       "      <td>106.3336</td>\n",
       "    </tr>\n",
       "    <tr>\n",
       "      <th>1438</th>\n",
       "      <td>14.8</td>\n",
       "      <td>5.0</td>\n",
       "      <td>106.5678</td>\n",
       "    </tr>\n",
       "    <tr>\n",
       "      <th>1439</th>\n",
       "      <td>14.9</td>\n",
       "      <td>5.0</td>\n",
       "      <td>106.7964</td>\n",
       "    </tr>\n",
       "    <tr>\n",
       "      <th>1440</th>\n",
       "      <td>15.0</td>\n",
       "      <td>5.0</td>\n",
       "      <td>107.0146</td>\n",
       "    </tr>\n",
       "  </tbody>\n",
       "</table>\n",
       "<p>1441 rows × 3 columns</p>\n",
       "</div>"
      ],
      "text/plain": [
       "        H1  Er1        Zo\n",
       "0      2.0  3.0   54.1491\n",
       "1      2.1  3.0   55.7520\n",
       "2      2.2  3.0   57.2776\n",
       "3      2.3  3.0   58.7739\n",
       "4      2.4  3.0   60.2150\n",
       "...    ...  ...       ...\n",
       "1436  14.6  5.0  106.1021\n",
       "1437  14.7  5.0  106.3336\n",
       "1438  14.8  5.0  106.5678\n",
       "1439  14.9  5.0  106.7964\n",
       "1440  15.0  5.0  107.0146\n",
       "\n",
       "[1441 rows x 3 columns]"
      ]
     },
     "execution_count": 10,
     "metadata": {},
     "output_type": "execute_result"
    }
   ],
   "source": [
    "df = data.drop(columns = ['W1', 'W2', 'T1'])\n",
    "df"
   ]
  },
  {
   "cell_type": "markdown",
   "id": "97e97070",
   "metadata": {},
   "source": [
    "Create the training data and test data"
   ]
  },
  {
   "cell_type": "code",
   "execution_count": 11,
   "id": "6bc40533",
   "metadata": {},
   "outputs": [],
   "source": [
    "X = df[['H1', 'Er1']]\n",
    "y = df['Zo']"
   ]
  },
  {
   "cell_type": "code",
   "execution_count": 12,
   "id": "775c046f",
   "metadata": {},
   "outputs": [],
   "source": [
    "X_train, X_test, y_train, y_test = train_test_split(X, y, random_state=42, test_size = 0.1)"
   ]
  },
  {
   "cell_type": "markdown",
   "id": "bbed4dd5",
   "metadata": {},
   "source": [
    "Build the pipeline with the Polynomial transformer, degree = 3, trained the model."
   ]
  },
  {
   "cell_type": "code",
   "execution_count": 16,
   "id": "91c5b959",
   "metadata": {},
   "outputs": [
    {
     "data": {
      "text/plain": [
       "Pipeline(steps=[('transformer', PolynomialFeatures(degree=3)),\n",
       "                ('regression', LinearRegression())])"
      ]
     },
     "execution_count": 16,
     "metadata": {},
     "output_type": "execute_result"
    }
   ],
   "source": [
    "pipe = Pipeline([('transformer', PolynomialFeatures(degree=3)), \n",
    "                ('regression', LinearRegression())])\n",
    "pipe.fit(X_train, y_train)"
   ]
  },
  {
   "cell_type": "markdown",
   "id": "3b764038",
   "metadata": {},
   "source": [
    "This simple model can get very high score and the mean_squarred_error is also very smal."
   ]
  },
  {
   "cell_type": "code",
   "execution_count": 17,
   "id": "c056ca79",
   "metadata": {},
   "outputs": [
    {
     "data": {
      "text/plain": [
       "0.9996570604177024"
      ]
     },
     "execution_count": 17,
     "metadata": {},
     "output_type": "execute_result"
    }
   ],
   "source": [
    "pipe.score(X_test, y_test)"
   ]
  },
  {
   "cell_type": "code",
   "execution_count": 21,
   "id": "c29c2d74",
   "metadata": {},
   "outputs": [
    {
     "data": {
      "text/plain": [
       "0.10204688218224203"
      ]
     },
     "execution_count": 21,
     "metadata": {},
     "output_type": "execute_result"
    }
   ],
   "source": [
    "mean_squared_error(pipe.predict(X_test), y_test) "
   ]
  },
  {
   "cell_type": "markdown",
   "id": "eadd2b06",
   "metadata": {},
   "source": [
    "Also tried 5 order Polynomial transfermer, the score is even higher and the mean squared error becomes very small."
   ]
  },
  {
   "cell_type": "code",
   "execution_count": 23,
   "id": "89a54be3",
   "metadata": {},
   "outputs": [
    {
     "data": {
      "text/plain": [
       "Pipeline(steps=[('transformer', PolynomialFeatures(degree=5)),\n",
       "                ('regression', LinearRegression())])"
      ]
     },
     "execution_count": 23,
     "metadata": {},
     "output_type": "execute_result"
    }
   ],
   "source": [
    "pipe = Pipeline([('transformer', PolynomialFeatures(degree=5)), \n",
    "                ('regression', LinearRegression())])\n",
    "pipe.fit(X_train, y_train)"
   ]
  },
  {
   "cell_type": "code",
   "execution_count": 24,
   "id": "23d183bc",
   "metadata": {},
   "outputs": [
    {
     "data": {
      "text/plain": [
       "0.9999959038586536"
      ]
     },
     "execution_count": 24,
     "metadata": {},
     "output_type": "execute_result"
    }
   ],
   "source": [
    "pipe.score(X_test, y_test)"
   ]
  },
  {
   "cell_type": "code",
   "execution_count": 25,
   "id": "f9f61202",
   "metadata": {},
   "outputs": [
    {
     "data": {
      "text/plain": [
       "0.0012188690806142603"
      ]
     },
     "execution_count": 25,
     "metadata": {},
     "output_type": "execute_result"
    }
   ],
   "source": [
    "mean_squared_error(pipe.predict(X_test), y_test) "
   ]
  },
  {
   "cell_type": "markdown",
   "id": "1e0c991f",
   "metadata": {},
   "source": [
    "So, order 5 Polynomial features are a very good model to predict the trace impedance."
   ]
  }
 ],
 "metadata": {
  "kernelspec": {
   "display_name": "Python 3 (ipykernel)",
   "language": "python",
   "name": "python3"
  },
  "language_info": {
   "codemirror_mode": {
    "name": "ipython",
    "version": 3
   },
   "file_extension": ".py",
   "mimetype": "text/x-python",
   "name": "python",
   "nbconvert_exporter": "python",
   "pygments_lexer": "ipython3",
   "version": "3.9.13"
  }
 },
 "nbformat": 4,
 "nbformat_minor": 5
}
