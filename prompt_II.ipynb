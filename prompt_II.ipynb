{
 "cells": [
  {
   "cell_type": "markdown",
   "metadata": {},
   "source": [
    "# What drives the price of a car?\n",
    "\n",
    "![](images/kurt.jpeg)"
   ]
  },
  {
   "cell_type": "markdown",
   "metadata": {},
   "source": [
    "**OVERVIEW**\n",
    "\n",
    "In this application, you will explore a dataset from kaggle. The original dataset contained information on 3 million used cars. The provided dataset contains information on 426K cars to ensure speed of processing.  Your goal is to understand what factors make a car more or less expensive.  As a result of your analysis, you should provide clear recommendations to your client -- a used car dealership -- as to what consumers value in a used car."
   ]
  },
  {
   "cell_type": "markdown",
   "metadata": {},
   "source": [
    "### CRISP-DM Framework\n",
    "\n",
    "<center>\n",
    "    <img src = images/crisp.png width = 50%/>\n",
    "</center>\n",
    "\n",
    "\n",
    "To frame the task, throughout our practical applications we will refer back to a standard process in industry for data projects called CRISP-DM.  This process provides a framework for working through a data problem.  Your first step in this application will be to read through a brief overview of CRISP-DM [here](https://mo-pcco.s3.us-east-1.amazonaws.com/BH-PCMLAI/module_11/readings_starter.zip).  After reading the overview, answer the questions below."
   ]
  },
  {
   "cell_type": "markdown",
   "metadata": {},
   "source": [
    "### Business Understanding\n",
    "\n",
    "From a business perspective, we are tasked with identifying key drivers for used car prices.  In the CRISP-DM overview, we are asked to convert this business framing to a data problem definition.  Using a few sentences, reframe the task as a data task with the appropriate technical vocabulary. "
   ]
  },
  {
   "cell_type": "markdown",
   "metadata": {},
   "source": [
    "This data problem can be defined as developing a predictive model using multiple linear regression to analyze the relationships between various features (such as mileage, age, brand, model, condition, etc.) of used cars and their corresponding prices. The objective is to identify the key drivers or predictor variables that have the most significant impact on used car prices, enabling the business to understand the factors that influence pricing and make informed decisions for the used car dealer based on the insights gained from the model."
   ]
  },
  {
   "cell_type": "code",
   "execution_count": null,
   "metadata": {},
   "outputs": [],
   "source": []
  },
  {
   "cell_type": "markdown",
   "metadata": {},
   "source": [
    "### Data Understanding\n",
    "\n",
    "After considering the business understanding, we want to get familiar with our data.  Write down some steps that you would take to get to know the dataset and identify any quality issues within.  Take time to get to know the dataset and explore what information it contains and how this could be used to inform your business understanding."
   ]
  },
  {
   "cell_type": "code",
   "execution_count": 153,
   "metadata": {},
   "outputs": [],
   "source": [
    "import numpy as np\n",
    "import pandas as pd\n",
    "import seaborn as sns\n",
    "from sklearn.linear_model import LinearRegression\n",
    "from sklearn.metrics import mean_absolute_error, mean_squared_error\n",
    "from sklearn.model_selection import train_test_split\n",
    "import plotly.express as px\n",
    "import matplotlib.pyplot as plt"
   ]
  },
  {
   "cell_type": "code",
   "execution_count": 206,
   "metadata": {},
   "outputs": [
    {
     "data": {
      "text/html": [
       "<div>\n",
       "<style scoped>\n",
       "    .dataframe tbody tr th:only-of-type {\n",
       "        vertical-align: middle;\n",
       "    }\n",
       "\n",
       "    .dataframe tbody tr th {\n",
       "        vertical-align: top;\n",
       "    }\n",
       "\n",
       "    .dataframe thead th {\n",
       "        text-align: right;\n",
       "    }\n",
       "</style>\n",
       "<table border=\"1\" class=\"dataframe\">\n",
       "  <thead>\n",
       "    <tr style=\"text-align: right;\">\n",
       "      <th></th>\n",
       "      <th>id</th>\n",
       "      <th>region</th>\n",
       "      <th>price</th>\n",
       "      <th>year</th>\n",
       "      <th>manufacturer</th>\n",
       "      <th>model</th>\n",
       "      <th>condition</th>\n",
       "      <th>cylinders</th>\n",
       "      <th>fuel</th>\n",
       "      <th>odometer</th>\n",
       "      <th>title_status</th>\n",
       "      <th>transmission</th>\n",
       "      <th>VIN</th>\n",
       "      <th>drive</th>\n",
       "      <th>size</th>\n",
       "      <th>type</th>\n",
       "      <th>paint_color</th>\n",
       "      <th>state</th>\n",
       "    </tr>\n",
       "  </thead>\n",
       "  <tbody>\n",
       "    <tr>\n",
       "      <th>126</th>\n",
       "      <td>7305672709</td>\n",
       "      <td>auburn</td>\n",
       "      <td>0</td>\n",
       "      <td>2018.0</td>\n",
       "      <td>chevrolet</td>\n",
       "      <td>express cargo van</td>\n",
       "      <td>like new</td>\n",
       "      <td>6 cylinders</td>\n",
       "      <td>gas</td>\n",
       "      <td>68472.0</td>\n",
       "      <td>clean</td>\n",
       "      <td>automatic</td>\n",
       "      <td>1GCWGAFP8J1309579</td>\n",
       "      <td>rwd</td>\n",
       "      <td>full-size</td>\n",
       "      <td>van</td>\n",
       "      <td>white</td>\n",
       "      <td>al</td>\n",
       "    </tr>\n",
       "    <tr>\n",
       "      <th>127</th>\n",
       "      <td>7305672266</td>\n",
       "      <td>auburn</td>\n",
       "      <td>0</td>\n",
       "      <td>2019.0</td>\n",
       "      <td>chevrolet</td>\n",
       "      <td>express cargo van</td>\n",
       "      <td>like new</td>\n",
       "      <td>6 cylinders</td>\n",
       "      <td>gas</td>\n",
       "      <td>69125.0</td>\n",
       "      <td>clean</td>\n",
       "      <td>automatic</td>\n",
       "      <td>1GCWGAFP4K1214373</td>\n",
       "      <td>rwd</td>\n",
       "      <td>full-size</td>\n",
       "      <td>van</td>\n",
       "      <td>white</td>\n",
       "      <td>al</td>\n",
       "    </tr>\n",
       "    <tr>\n",
       "      <th>128</th>\n",
       "      <td>7305672252</td>\n",
       "      <td>auburn</td>\n",
       "      <td>0</td>\n",
       "      <td>2018.0</td>\n",
       "      <td>chevrolet</td>\n",
       "      <td>express cargo van</td>\n",
       "      <td>like new</td>\n",
       "      <td>6 cylinders</td>\n",
       "      <td>gas</td>\n",
       "      <td>66555.0</td>\n",
       "      <td>clean</td>\n",
       "      <td>automatic</td>\n",
       "      <td>1GCWGAFPXJ1337903</td>\n",
       "      <td>rwd</td>\n",
       "      <td>full-size</td>\n",
       "      <td>van</td>\n",
       "      <td>white</td>\n",
       "      <td>al</td>\n",
       "    </tr>\n",
       "    <tr>\n",
       "      <th>215</th>\n",
       "      <td>7316482063</td>\n",
       "      <td>birmingham</td>\n",
       "      <td>4000</td>\n",
       "      <td>2002.0</td>\n",
       "      <td>toyota</td>\n",
       "      <td>echo</td>\n",
       "      <td>excellent</td>\n",
       "      <td>4 cylinders</td>\n",
       "      <td>gas</td>\n",
       "      <td>155000.0</td>\n",
       "      <td>clean</td>\n",
       "      <td>automatic</td>\n",
       "      <td>JTDBT123520243495</td>\n",
       "      <td>fwd</td>\n",
       "      <td>compact</td>\n",
       "      <td>sedan</td>\n",
       "      <td>blue</td>\n",
       "      <td>al</td>\n",
       "    </tr>\n",
       "    <tr>\n",
       "      <th>219</th>\n",
       "      <td>7316429417</td>\n",
       "      <td>birmingham</td>\n",
       "      <td>2500</td>\n",
       "      <td>1995.0</td>\n",
       "      <td>bmw</td>\n",
       "      <td>525i</td>\n",
       "      <td>fair</td>\n",
       "      <td>6 cylinders</td>\n",
       "      <td>gas</td>\n",
       "      <td>110661.0</td>\n",
       "      <td>clean</td>\n",
       "      <td>automatic</td>\n",
       "      <td>WBAHD6322SGK86772</td>\n",
       "      <td>rwd</td>\n",
       "      <td>mid-size</td>\n",
       "      <td>sedan</td>\n",
       "      <td>white</td>\n",
       "      <td>al</td>\n",
       "    </tr>\n",
       "    <tr>\n",
       "      <th>...</th>\n",
       "      <td>...</td>\n",
       "      <td>...</td>\n",
       "      <td>...</td>\n",
       "      <td>...</td>\n",
       "      <td>...</td>\n",
       "      <td>...</td>\n",
       "      <td>...</td>\n",
       "      <td>...</td>\n",
       "      <td>...</td>\n",
       "      <td>...</td>\n",
       "      <td>...</td>\n",
       "      <td>...</td>\n",
       "      <td>...</td>\n",
       "      <td>...</td>\n",
       "      <td>...</td>\n",
       "      <td>...</td>\n",
       "      <td>...</td>\n",
       "      <td>...</td>\n",
       "    </tr>\n",
       "    <tr>\n",
       "      <th>426788</th>\n",
       "      <td>7303227528</td>\n",
       "      <td>wyoming</td>\n",
       "      <td>12995</td>\n",
       "      <td>2016.0</td>\n",
       "      <td>chevrolet</td>\n",
       "      <td>cruze lt</td>\n",
       "      <td>like new</td>\n",
       "      <td>4 cylinders</td>\n",
       "      <td>gas</td>\n",
       "      <td>61127.0</td>\n",
       "      <td>clean</td>\n",
       "      <td>automatic</td>\n",
       "      <td>1G1BE5SM0G7266569</td>\n",
       "      <td>fwd</td>\n",
       "      <td>compact</td>\n",
       "      <td>sedan</td>\n",
       "      <td>silver</td>\n",
       "      <td>wy</td>\n",
       "    </tr>\n",
       "    <tr>\n",
       "      <th>426792</th>\n",
       "      <td>7303114896</td>\n",
       "      <td>wyoming</td>\n",
       "      <td>32999</td>\n",
       "      <td>2014.0</td>\n",
       "      <td>ford</td>\n",
       "      <td>f350, xlt</td>\n",
       "      <td>excellent</td>\n",
       "      <td>8 cylinders</td>\n",
       "      <td>diesel</td>\n",
       "      <td>154642.0</td>\n",
       "      <td>clean</td>\n",
       "      <td>automatic</td>\n",
       "      <td>1FT8W3DT3EEB41548</td>\n",
       "      <td>4wd</td>\n",
       "      <td>full-size</td>\n",
       "      <td>pickup</td>\n",
       "      <td>brown</td>\n",
       "      <td>wy</td>\n",
       "    </tr>\n",
       "    <tr>\n",
       "      <th>426793</th>\n",
       "      <td>7303112347</td>\n",
       "      <td>wyoming</td>\n",
       "      <td>15999</td>\n",
       "      <td>2018.0</td>\n",
       "      <td>chevrolet</td>\n",
       "      <td>cruze, lt</td>\n",
       "      <td>excellent</td>\n",
       "      <td>4 cylinders</td>\n",
       "      <td>gas</td>\n",
       "      <td>36465.0</td>\n",
       "      <td>clean</td>\n",
       "      <td>automatic</td>\n",
       "      <td>1G1BE5SM7J7133704</td>\n",
       "      <td>fwd</td>\n",
       "      <td>mid-size</td>\n",
       "      <td>sedan</td>\n",
       "      <td>black</td>\n",
       "      <td>wy</td>\n",
       "    </tr>\n",
       "    <tr>\n",
       "      <th>426833</th>\n",
       "      <td>7302338378</td>\n",
       "      <td>wyoming</td>\n",
       "      <td>6800</td>\n",
       "      <td>1997.0</td>\n",
       "      <td>jaguar</td>\n",
       "      <td>xk8 convertible</td>\n",
       "      <td>good</td>\n",
       "      <td>8 cylinders</td>\n",
       "      <td>gas</td>\n",
       "      <td>69550.0</td>\n",
       "      <td>clean</td>\n",
       "      <td>automatic</td>\n",
       "      <td>SAJGX2749VCOO8376</td>\n",
       "      <td>rwd</td>\n",
       "      <td>compact</td>\n",
       "      <td>convertible</td>\n",
       "      <td>white</td>\n",
       "      <td>wy</td>\n",
       "    </tr>\n",
       "    <tr>\n",
       "      <th>426836</th>\n",
       "      <td>7302301268</td>\n",
       "      <td>wyoming</td>\n",
       "      <td>0</td>\n",
       "      <td>2018.0</td>\n",
       "      <td>ram</td>\n",
       "      <td>2500</td>\n",
       "      <td>excellent</td>\n",
       "      <td>6 cylinders</td>\n",
       "      <td>diesel</td>\n",
       "      <td>20492.0</td>\n",
       "      <td>clean</td>\n",
       "      <td>automatic</td>\n",
       "      <td>3C6UR5HL3JG307217</td>\n",
       "      <td>4wd</td>\n",
       "      <td>full-size</td>\n",
       "      <td>truck</td>\n",
       "      <td>white</td>\n",
       "      <td>wy</td>\n",
       "    </tr>\n",
       "  </tbody>\n",
       "</table>\n",
       "<p>34868 rows × 18 columns</p>\n",
       "</div>"
      ],
      "text/plain": [
       "                id      region  price    year manufacturer              model  \\\n",
       "126     7305672709      auburn      0  2018.0    chevrolet  express cargo van   \n",
       "127     7305672266      auburn      0  2019.0    chevrolet  express cargo van   \n",
       "128     7305672252      auburn      0  2018.0    chevrolet  express cargo van   \n",
       "215     7316482063  birmingham   4000  2002.0       toyota               echo   \n",
       "219     7316429417  birmingham   2500  1995.0          bmw               525i   \n",
       "...            ...         ...    ...     ...          ...                ...   \n",
       "426788  7303227528     wyoming  12995  2016.0    chevrolet           cruze lt   \n",
       "426792  7303114896     wyoming  32999  2014.0         ford          f350, xlt   \n",
       "426793  7303112347     wyoming  15999  2018.0    chevrolet          cruze, lt   \n",
       "426833  7302338378     wyoming   6800  1997.0       jaguar    xk8 convertible   \n",
       "426836  7302301268     wyoming      0  2018.0          ram               2500   \n",
       "\n",
       "        condition    cylinders    fuel  odometer title_status transmission  \\\n",
       "126      like new  6 cylinders     gas   68472.0        clean    automatic   \n",
       "127      like new  6 cylinders     gas   69125.0        clean    automatic   \n",
       "128      like new  6 cylinders     gas   66555.0        clean    automatic   \n",
       "215     excellent  4 cylinders     gas  155000.0        clean    automatic   \n",
       "219          fair  6 cylinders     gas  110661.0        clean    automatic   \n",
       "...           ...          ...     ...       ...          ...          ...   \n",
       "426788   like new  4 cylinders     gas   61127.0        clean    automatic   \n",
       "426792  excellent  8 cylinders  diesel  154642.0        clean    automatic   \n",
       "426793  excellent  4 cylinders     gas   36465.0        clean    automatic   \n",
       "426833       good  8 cylinders     gas   69550.0        clean    automatic   \n",
       "426836  excellent  6 cylinders  diesel   20492.0        clean    automatic   \n",
       "\n",
       "                      VIN drive       size         type paint_color state  \n",
       "126     1GCWGAFP8J1309579   rwd  full-size          van       white    al  \n",
       "127     1GCWGAFP4K1214373   rwd  full-size          van       white    al  \n",
       "128     1GCWGAFPXJ1337903   rwd  full-size          van       white    al  \n",
       "215     JTDBT123520243495   fwd    compact        sedan        blue    al  \n",
       "219     WBAHD6322SGK86772   rwd   mid-size        sedan       white    al  \n",
       "...                   ...   ...        ...          ...         ...   ...  \n",
       "426788  1G1BE5SM0G7266569   fwd    compact        sedan      silver    wy  \n",
       "426792  1FT8W3DT3EEB41548   4wd  full-size       pickup       brown    wy  \n",
       "426793  1G1BE5SM7J7133704   fwd   mid-size        sedan       black    wy  \n",
       "426833  SAJGX2749VCOO8376   rwd    compact  convertible       white    wy  \n",
       "426836  3C6UR5HL3JG307217   4wd  full-size        truck       white    wy  \n",
       "\n",
       "[34868 rows x 18 columns]"
      ]
     },
     "execution_count": 206,
     "metadata": {},
     "output_type": "execute_result"
    }
   ],
   "source": [
    "# Load the dataset and drop NA rows\n",
    "df = pd.read_csv('data/vehicles.csv').dropna()\n",
    "df"
   ]
  },
  {
   "cell_type": "code",
   "execution_count": 120,
   "metadata": {},
   "outputs": [
    {
     "name": "stdout",
     "output_type": "stream",
     "text": [
      "<class 'pandas.core.frame.DataFrame'>\n",
      "Int64Index: 34868 entries, 126 to 426836\n",
      "Data columns (total 18 columns):\n",
      " #   Column        Non-Null Count  Dtype  \n",
      "---  ------        --------------  -----  \n",
      " 0   id            34868 non-null  int64  \n",
      " 1   region        34868 non-null  object \n",
      " 2   price         34868 non-null  int64  \n",
      " 3   year          34868 non-null  float64\n",
      " 4   manufacturer  34868 non-null  object \n",
      " 5   model         34868 non-null  object \n",
      " 6   condition     34868 non-null  object \n",
      " 7   cylinders     34868 non-null  object \n",
      " 8   fuel          34868 non-null  object \n",
      " 9   odometer      34868 non-null  float64\n",
      " 10  title_status  34868 non-null  object \n",
      " 11  transmission  34868 non-null  object \n",
      " 12  VIN           34868 non-null  object \n",
      " 13  drive         34868 non-null  object \n",
      " 14  size          34868 non-null  object \n",
      " 15  type          34868 non-null  object \n",
      " 16  paint_color   34868 non-null  object \n",
      " 17  state         34868 non-null  object \n",
      "dtypes: float64(2), int64(2), object(14)\n",
      "memory usage: 5.1+ MB\n"
     ]
    }
   ],
   "source": [
    "# Evaluate the dataset and identify the numerical columns and nonumerical columns\n",
    "df.info()"
   ]
  },
  {
   "cell_type": "code",
   "execution_count": null,
   "metadata": {},
   "outputs": [],
   "source": []
  },
  {
   "cell_type": "code",
   "execution_count": 173,
   "metadata": {},
   "outputs": [
    {
     "data": {
      "text/plain": [
       "white     9030\n",
       "black     5955\n",
       "silver    4458\n",
       "grey      3961\n",
       "blue      3121\n",
       "red       2882\n",
       "custom     864\n",
       "green      836\n",
       "brown      746\n",
       "yellow     210\n",
       "orange     151\n",
       "purple      72\n",
       "Name: paint_color, dtype: int64"
      ]
     },
     "execution_count": 173,
     "metadata": {},
     "output_type": "execute_result"
    }
   ],
   "source": [
    "\n",
    "df['paint_color'].value_counts()"
   ]
  },
  {
   "cell_type": "markdown",
   "metadata": {},
   "source": [
    "### Data Preparation\n",
    "\n",
    "After our initial exploration and fine tuning of the business understanding, it is time to construct our final dataset prior to modeling.  Here, we want to make sure to handle any integrity issues and cleaning, the engineering of new features, any transformations that we believe should happen (scaling, logarithms, normalization, etc.), and general preparation for modeling with `sklearn`. "
   ]
  },
  {
   "cell_type": "markdown",
   "metadata": {},
   "source": [
    "Based on the rough evaluation of the dataset, id, region, VIN, state are the feautres for the car identity and should play less impact on the price. So these columns can be dropped. For the datapoints with price = 0, it seems to result from wrong record, so these 0 price rows are deleted.  \n",
    "The odometer column has some numbers >300K, which is very uncommon in reality and will be dropped.\n",
    "In fuel, transmission, drive, one value dominated in each group and we can drop these to prevent overfitting. \n",
    "Type is associate with size and only the size will be included in the model. \n"
   ]
  },
  {
   "cell_type": "code",
   "execution_count": 208,
   "metadata": {},
   "outputs": [],
   "source": [
    "# Translate cylinders from object to numerical\n",
    "df = df[(df['price'] != 0) & (df['cylinders'] != 'other') &(df['odometer'] <= 300000)]\n",
    "df1 = df.replace({'4 cylinders': 4, '6 cylinders': 6, '8 cylinders': 8, \n",
    "            '10 cylinders': 10, '5 cylinders': 5, '3 cylinders': 3, '12 cylinders': 12})"
   ]
  },
  {
   "cell_type": "code",
   "execution_count": 209,
   "metadata": {},
   "outputs": [
    {
     "name": "stdout",
     "output_type": "stream",
     "text": [
      "<class 'pandas.core.frame.DataFrame'>\n",
      "Int64Index: 32286 entries, 215 to 426833\n",
      "Data columns (total 6 columns):\n",
      " #   Column     Non-Null Count  Dtype  \n",
      "---  ------     --------------  -----  \n",
      " 0   price      32286 non-null  int64  \n",
      " 1   year       32286 non-null  float64\n",
      " 2   condition  32286 non-null  object \n",
      " 3   cylinders  32286 non-null  int64  \n",
      " 4   odometer   32286 non-null  float64\n",
      " 5   size       32286 non-null  object \n",
      "dtypes: float64(2), int64(2), object(2)\n",
      "memory usage: 1.7+ MB\n"
     ]
    }
   ],
   "source": [
    "df1 = df1.drop(['id', 'region', 'VIN', 'state', 'model', 'title_status', 'manufacturer', 'fuel', 'transmission', 'drive', 'type', 'paint_color'], axis = 1)\n",
    "df1.info()"
   ]
  },
  {
   "cell_type": "code",
   "execution_count": null,
   "metadata": {},
   "outputs": [],
   "source": []
  },
  {
   "cell_type": "markdown",
   "metadata": {},
   "source": [
    "### Modeling\n",
    "\n",
    "With your (almost?) final dataset in hand, it is now time to build some models.  Here, you should build a number of different regression models with the price as the target.  In building your models, you should explore different parameters and be sure to cross-validate your findings."
   ]
  },
  {
   "cell_type": "markdown",
   "metadata": {},
   "source": [
    "First, build a very simpe model with only the features of 'odometer', as the 'odometer' usually correlated more with the price than the other two numerical features. \n",
    "Then, build a model with 'odometer', 'years', 'cylinders' (translate 'cylinder' into numerical). Compare the two models by MAE and MSE.\n",
    "\n",
    "Split the dataset into 70% training data and 30% validation data.\n"
   ]
  },
  {
   "cell_type": "code",
   "execution_count": 178,
   "metadata": {},
   "outputs": [],
   "source": [
    "# \n",
    "X1 = df1[['odometer']]\n",
    "y1 = df1['price']\n",
    "X1_train, X1_test, y1_train, y1_test = train_test_split(X1, y1, test_size=0.3, random_state=22)"
   ]
  },
  {
   "cell_type": "code",
   "execution_count": 179,
   "metadata": {},
   "outputs": [
    {
     "data": {
      "text/plain": [
       "LinearRegression()"
      ]
     },
     "execution_count": 179,
     "metadata": {},
     "output_type": "execute_result"
    }
   ],
   "source": [
    "f1 = LinearRegression(fit_intercept = True)\n",
    "f1.fit(X1_train, y1_train)"
   ]
  },
  {
   "cell_type": "code",
   "execution_count": 180,
   "metadata": {},
   "outputs": [
    {
     "data": {
      "text/plain": [
       "array([-0.09638838])"
      ]
     },
     "execution_count": 180,
     "metadata": {},
     "output_type": "execute_result"
    }
   ],
   "source": [
    "f1.coef_"
   ]
  },
  {
   "cell_type": "code",
   "execution_count": 181,
   "metadata": {},
   "outputs": [
    {
     "name": "stdout",
     "output_type": "stream",
     "text": [
      "9070.103138128185\n",
      "154274098.06726855\n"
     ]
    }
   ],
   "source": [
    "y1_predict = f1.predict(X1_test)\n",
    "mae_err1 = mean_absolute_error(y1_test, y1_predict)\n",
    "mse_err1 = mean_squared_error(y1_test, y1_predict)\n",
    "print(mae_err1)\n",
    "print(mse_err1)"
   ]
  },
  {
   "cell_type": "code",
   "execution_count": 159,
   "metadata": {},
   "outputs": [
    {
     "data": {
      "text/plain": [
       "[<matplotlib.lines.Line2D at 0x7f9333ed0f10>]"
      ]
     },
     "execution_count": 159,
     "metadata": {},
     "output_type": "execute_result"
    },
    {
     "data": {
      "image/png": "[encoded data removed]",
      "text/plain": [
       "<Figure size 640x480 with 1 Axes>"
      ]
     },
     "metadata": {},
     "output_type": "display_data"
    }
   ],
   "source": [
    "plt.scatter(x=X1_train, y=y1_train)\n",
    "x = np.linspace(0, 300000, 1000)\n",
    "plt.plot(x, f1.coef_*x + f1.intercept_, color='red')"
   ]
  },
  {
   "cell_type": "code",
   "execution_count": 160,
   "metadata": {},
   "outputs": [
    {
     "data": {
      "text/plain": [
       "[<matplotlib.lines.Line2D at 0x7f9332968550>]"
      ]
     },
     "execution_count": 160,
     "metadata": {},
     "output_type": "execute_result"
    },
    {
     "data": {
      "image/png": "[encoded data removed]",
      "text/plain": [
       "<Figure size 640x480 with 1 Axes>"
      ]
     },
     "metadata": {},
     "output_type": "display_data"
    }
   ],
   "source": [
    "plt.scatter(x=X1_test, y=y1_test)\n",
    "x = np.linspace(0, 300000, 1000)\n",
    "plt.plot(x, f1.coef_*x + f1.intercept_, color='red')"
   ]
  },
  {
   "cell_type": "code",
   "execution_count": null,
   "metadata": {},
   "outputs": [],
   "source": []
  },
  {
   "cell_type": "code",
   "execution_count": 136,
   "metadata": {},
   "outputs": [],
   "source": [
    "X2 = df1[['year', 'odometer', 'cylinders']]\n",
    "y2 = df1['price']\n",
    "X2_train, X2_test, y2_train, y2_test = train_test_split(X2, y2, test_size=0.3, random_state=22)"
   ]
  },
  {
   "cell_type": "code",
   "execution_count": 137,
   "metadata": {},
   "outputs": [
    {
     "data": {
      "text/plain": [
       "LinearRegression()"
      ]
     },
     "execution_count": 137,
     "metadata": {},
     "output_type": "execute_result"
    }
   ],
   "source": [
    "f2 = LinearRegression(fit_intercept = True)\n",
    "f2.fit(X2_train, y2_train)"
   ]
  },
  {
   "cell_type": "code",
   "execution_count": 138,
   "metadata": {},
   "outputs": [
    {
     "data": {
      "text/plain": [
       "array([ 5.25990485e+02, -5.78589158e-02,  3.17712207e+03])"
      ]
     },
     "execution_count": 138,
     "metadata": {},
     "output_type": "execute_result"
    }
   ],
   "source": [
    "f2.coef_"
   ]
  },
  {
   "cell_type": "code",
   "execution_count": 139,
   "metadata": {},
   "outputs": [
    {
     "name": "stdout",
     "output_type": "stream",
     "text": [
      "7133.698862212815\n",
      "178102307.24577987\n"
     ]
    }
   ],
   "source": [
    "y2_predict = f2.predict(X2_test)\n",
    "mae_err2 = mean_absolute_error(y2_test, y2_predict)\n",
    "mse_err2 = mean_squared_error(y2_test, y2_predict)\n",
    "print(mae_err2)\n",
    "print(mse_err2)"
   ]
  },
  {
   "cell_type": "code",
   "execution_count": null,
   "metadata": {},
   "outputs": [],
   "source": []
  },
  {
   "cell_type": "markdown",
   "metadata": {},
   "source": [
    "Include some critical nonumerical features."
   ]
  },
  {
   "cell_type": "code",
   "execution_count": 216,
   "metadata": {},
   "outputs": [
    {
     "data": {
      "text/html": [
       "<div>\n",
       "<style scoped>\n",
       "    .dataframe tbody tr th:only-of-type {\n",
       "        vertical-align: middle;\n",
       "    }\n",
       "\n",
       "    .dataframe tbody tr th {\n",
       "        vertical-align: top;\n",
       "    }\n",
       "\n",
       "    .dataframe thead th {\n",
       "        text-align: right;\n",
       "    }\n",
       "</style>\n",
       "<table border=\"1\" class=\"dataframe\">\n",
       "  <thead>\n",
       "    <tr style=\"text-align: right;\">\n",
       "      <th></th>\n",
       "      <th>price</th>\n",
       "      <th>year</th>\n",
       "      <th>cylinders</th>\n",
       "      <th>odometer</th>\n",
       "      <th>excellent</th>\n",
       "      <th>fair</th>\n",
       "      <th>good</th>\n",
       "      <th>like new</th>\n",
       "      <th>new</th>\n",
       "      <th>salvage</th>\n",
       "      <th>compact</th>\n",
       "      <th>full-size</th>\n",
       "      <th>mid-size</th>\n",
       "      <th>sub-compact</th>\n",
       "    </tr>\n",
       "  </thead>\n",
       "  <tbody>\n",
       "    <tr>\n",
       "      <th>215</th>\n",
       "      <td>4000</td>\n",
       "      <td>2002.0</td>\n",
       "      <td>4</td>\n",
       "      <td>155000.0</td>\n",
       "      <td>1</td>\n",
       "      <td>0</td>\n",
       "      <td>0</td>\n",
       "      <td>0</td>\n",
       "      <td>0</td>\n",
       "      <td>0</td>\n",
       "      <td>1</td>\n",
       "      <td>0</td>\n",
       "      <td>0</td>\n",
       "      <td>0</td>\n",
       "    </tr>\n",
       "    <tr>\n",
       "      <th>219</th>\n",
       "      <td>2500</td>\n",
       "      <td>1995.0</td>\n",
       "      <td>6</td>\n",
       "      <td>110661.0</td>\n",
       "      <td>0</td>\n",
       "      <td>1</td>\n",
       "      <td>0</td>\n",
       "      <td>0</td>\n",
       "      <td>0</td>\n",
       "      <td>0</td>\n",
       "      <td>0</td>\n",
       "      <td>0</td>\n",
       "      <td>1</td>\n",
       "      <td>0</td>\n",
       "    </tr>\n",
       "    <tr>\n",
       "      <th>268</th>\n",
       "      <td>9000</td>\n",
       "      <td>2008.0</td>\n",
       "      <td>4</td>\n",
       "      <td>56700.0</td>\n",
       "      <td>1</td>\n",
       "      <td>0</td>\n",
       "      <td>0</td>\n",
       "      <td>0</td>\n",
       "      <td>0</td>\n",
       "      <td>0</td>\n",
       "      <td>1</td>\n",
       "      <td>0</td>\n",
       "      <td>0</td>\n",
       "      <td>0</td>\n",
       "    </tr>\n",
       "    <tr>\n",
       "      <th>337</th>\n",
       "      <td>8950</td>\n",
       "      <td>2011.0</td>\n",
       "      <td>6</td>\n",
       "      <td>164000.0</td>\n",
       "      <td>1</td>\n",
       "      <td>0</td>\n",
       "      <td>0</td>\n",
       "      <td>0</td>\n",
       "      <td>0</td>\n",
       "      <td>0</td>\n",
       "      <td>0</td>\n",
       "      <td>1</td>\n",
       "      <td>0</td>\n",
       "      <td>0</td>\n",
       "    </tr>\n",
       "    <tr>\n",
       "      <th>338</th>\n",
       "      <td>4000</td>\n",
       "      <td>1972.0</td>\n",
       "      <td>6</td>\n",
       "      <td>88100.0</td>\n",
       "      <td>0</td>\n",
       "      <td>1</td>\n",
       "      <td>0</td>\n",
       "      <td>0</td>\n",
       "      <td>0</td>\n",
       "      <td>0</td>\n",
       "      <td>0</td>\n",
       "      <td>1</td>\n",
       "      <td>0</td>\n",
       "      <td>0</td>\n",
       "    </tr>\n",
       "    <tr>\n",
       "      <th>...</th>\n",
       "      <td>...</td>\n",
       "      <td>...</td>\n",
       "      <td>...</td>\n",
       "      <td>...</td>\n",
       "      <td>...</td>\n",
       "      <td>...</td>\n",
       "      <td>...</td>\n",
       "      <td>...</td>\n",
       "      <td>...</td>\n",
       "      <td>...</td>\n",
       "      <td>...</td>\n",
       "      <td>...</td>\n",
       "      <td>...</td>\n",
       "      <td>...</td>\n",
       "    </tr>\n",
       "    <tr>\n",
       "      <th>426785</th>\n",
       "      <td>23495</td>\n",
       "      <td>2015.0</td>\n",
       "      <td>8</td>\n",
       "      <td>146795.0</td>\n",
       "      <td>0</td>\n",
       "      <td>0</td>\n",
       "      <td>0</td>\n",
       "      <td>1</td>\n",
       "      <td>0</td>\n",
       "      <td>0</td>\n",
       "      <td>0</td>\n",
       "      <td>1</td>\n",
       "      <td>0</td>\n",
       "      <td>0</td>\n",
       "    </tr>\n",
       "    <tr>\n",
       "      <th>426788</th>\n",
       "      <td>12995</td>\n",
       "      <td>2016.0</td>\n",
       "      <td>4</td>\n",
       "      <td>61127.0</td>\n",
       "      <td>0</td>\n",
       "      <td>0</td>\n",
       "      <td>0</td>\n",
       "      <td>1</td>\n",
       "      <td>0</td>\n",
       "      <td>0</td>\n",
       "      <td>1</td>\n",
       "      <td>0</td>\n",
       "      <td>0</td>\n",
       "      <td>0</td>\n",
       "    </tr>\n",
       "    <tr>\n",
       "      <th>426792</th>\n",
       "      <td>32999</td>\n",
       "      <td>2014.0</td>\n",
       "      <td>8</td>\n",
       "      <td>154642.0</td>\n",
       "      <td>1</td>\n",
       "      <td>0</td>\n",
       "      <td>0</td>\n",
       "      <td>0</td>\n",
       "      <td>0</td>\n",
       "      <td>0</td>\n",
       "      <td>0</td>\n",
       "      <td>1</td>\n",
       "      <td>0</td>\n",
       "      <td>0</td>\n",
       "    </tr>\n",
       "    <tr>\n",
       "      <th>426793</th>\n",
       "      <td>15999</td>\n",
       "      <td>2018.0</td>\n",
       "      <td>4</td>\n",
       "      <td>36465.0</td>\n",
       "      <td>1</td>\n",
       "      <td>0</td>\n",
       "      <td>0</td>\n",
       "      <td>0</td>\n",
       "      <td>0</td>\n",
       "      <td>0</td>\n",
       "      <td>0</td>\n",
       "      <td>0</td>\n",
       "      <td>1</td>\n",
       "      <td>0</td>\n",
       "    </tr>\n",
       "    <tr>\n",
       "      <th>426833</th>\n",
       "      <td>6800</td>\n",
       "      <td>1997.0</td>\n",
       "      <td>8</td>\n",
       "      <td>69550.0</td>\n",
       "      <td>0</td>\n",
       "      <td>0</td>\n",
       "      <td>1</td>\n",
       "      <td>0</td>\n",
       "      <td>0</td>\n",
       "      <td>0</td>\n",
       "      <td>1</td>\n",
       "      <td>0</td>\n",
       "      <td>0</td>\n",
       "      <td>0</td>\n",
       "    </tr>\n",
       "  </tbody>\n",
       "</table>\n",
       "<p>32286 rows × 14 columns</p>\n",
       "</div>"
      ],
      "text/plain": [
       "        price    year  cylinders  odometer  excellent  fair  good  like new  \\\n",
       "215      4000  2002.0          4  155000.0          1     0     0         0   \n",
       "219      2500  1995.0          6  110661.0          0     1     0         0   \n",
       "268      9000  2008.0          4   56700.0          1     0     0         0   \n",
       "337      8950  2011.0          6  164000.0          1     0     0         0   \n",
       "338      4000  1972.0          6   88100.0          0     1     0         0   \n",
       "...       ...     ...        ...       ...        ...   ...   ...       ...   \n",
       "426785  23495  2015.0          8  146795.0          0     0     0         1   \n",
       "426788  12995  2016.0          4   61127.0          0     0     0         1   \n",
       "426792  32999  2014.0          8  154642.0          1     0     0         0   \n",
       "426793  15999  2018.0          4   36465.0          1     0     0         0   \n",
       "426833   6800  1997.0          8   69550.0          0     0     1         0   \n",
       "\n",
       "        new  salvage  compact  full-size  mid-size  sub-compact  \n",
       "215       0        0        1          0         0            0  \n",
       "219       0        0        0          0         1            0  \n",
       "268       0        0        1          0         0            0  \n",
       "337       0        0        0          1         0            0  \n",
       "338       0        0        0          1         0            0  \n",
       "...     ...      ...      ...        ...       ...          ...  \n",
       "426785    0        0        0          1         0            0  \n",
       "426788    0        0        1          0         0            0  \n",
       "426792    0        0        0          1         0            0  \n",
       "426793    0        0        0          0         1            0  \n",
       "426833    0        0        1          0         0            0  \n",
       "\n",
       "[32286 rows x 14 columns]"
      ]
     },
     "execution_count": 216,
     "metadata": {},
     "output_type": "execute_result"
    }
   ],
   "source": [
    "dummies1 = pd.get_dummies(df1['condition'])\n",
    "dummies2 = pd.get_dummies(df1['size'])\n",
    "df2 = pd.concat([df1, dummies1, dummies2], axis=1).drop(['condition', 'size'], axis=1)\n",
    "y3 = df2['price']\n",
    "X3 = df2.drop('price', axis=1)\n",
    "df2"
   ]
  },
  {
   "cell_type": "code",
   "execution_count": 197,
   "metadata": {},
   "outputs": [],
   "source": [
    "X3_train, X3_test, y3_train, y3_test = train_test_split(X3, y3, test_size=0.3, random_state=22)"
   ]
  },
  {
   "cell_type": "code",
   "execution_count": 198,
   "metadata": {},
   "outputs": [
    {
     "data": {
      "text/plain": [
       "LinearRegression()"
      ]
     },
     "execution_count": 198,
     "metadata": {},
     "output_type": "execute_result"
    }
   ],
   "source": [
    "f3 = LinearRegression(fit_intercept = True)\n",
    "f3.fit(X3_train, y3_train)"
   ]
  },
  {
   "cell_type": "code",
   "execution_count": 199,
   "metadata": {},
   "outputs": [
    {
     "data": {
      "text/plain": [
       "array([ 4.43396415e+02,  2.51560050e+03, -8.73858142e-02, -1.40055005e+02,\n",
       "       -2.50269962e+03, -2.09202466e+02,  1.92257260e+03,  7.21111614e+03,\n",
       "       -6.28173165e+03, -3.70340393e+03,  3.93145877e+03, -3.09425518e+01,\n",
       "       -1.97112290e+02])"
      ]
     },
     "execution_count": 199,
     "metadata": {},
     "output_type": "execute_result"
    }
   ],
   "source": [
    "f3.coef_"
   ]
  },
  {
   "cell_type": "code",
   "execution_count": 200,
   "metadata": {},
   "outputs": [
    {
     "name": "stdout",
     "output_type": "stream",
     "text": [
      "6898.987418383197\n",
      "107859037.43464988\n"
     ]
    }
   ],
   "source": [
    "y3_predict = f3.predict(X3_test)\n",
    "mae_err3 = mean_absolute_error(y3_test, y3_predict)\n",
    "mse_err3 = mean_squared_error(y3_test, y3_predict)\n",
    "print(mae_err3)\n",
    "print(mse_err3)"
   ]
  },
  {
   "cell_type": "code",
   "execution_count": null,
   "metadata": {},
   "outputs": [],
   "source": []
  },
  {
   "cell_type": "markdown",
   "metadata": {},
   "source": [
    "Impact of manufacturer and paint color. Because these features can be used to categorize the data, it can be evaluate by comparing the mean of each category."
   ]
  },
  {
   "cell_type": "code",
   "execution_count": 214,
   "metadata": {},
   "outputs": [
    {
     "data": {
      "text/plain": [
       "manufacturer\n",
       "saturn              4862.760870\n",
       "mercury             5703.975309\n",
       "land rover          6975.000000\n",
       "fiat                9161.574468\n",
       "chrysler            9302.724609\n",
       "pontiac             9635.000000\n",
       "hyundai             9763.077029\n",
       "mini                9795.361446\n",
       "kia                 9893.818021\n",
       "mazda              10094.791005\n",
       "honda              10393.437912\n",
       "volkswagen         10675.943978\n",
       "volvo              11326.427966\n",
       "buick              11410.557423\n",
       "acura              11554.450000\n",
       "subaru             11755.411429\n",
       "nissan             11873.842839\n",
       "dodge              12327.353524\n",
       "jaguar             12379.048780\n",
       "lexus              13840.937824\n",
       "bmw                14017.300585\n",
       "lincoln            14236.369748\n",
       "toyota             14413.357357\n",
       "infiniti           15058.632743\n",
       "datsun             15499.666667\n",
       "cadillac           15542.771855\n",
       "audi               15790.200980\n",
       "mercedes-benz      16126.829177\n",
       "jeep               16263.902973\n",
       "mitsubishi         18477.720497\n",
       "harley-davidson    19023.428571\n",
       "chevrolet          19323.060525\n",
       "tesla              21250.500000\n",
       "ford               21961.639154\n",
       "rover              23731.082278\n",
       "alfa-romeo         23893.133333\n",
       "gmc                24493.267751\n",
       "ram                27417.069086\n",
       "porsche            31622.481481\n",
       "aston-martin       57280.000000\n",
       "ferrari            95829.444444\n",
       "Name: price, dtype: float64"
      ]
     },
     "execution_count": 214,
     "metadata": {},
     "output_type": "execute_result"
    }
   ],
   "source": [
    "df.groupby('manufacturer')['price'].mean().sort_values()"
   ]
  },
  {
   "cell_type": "code",
   "execution_count": 215,
   "metadata": {},
   "outputs": [
    {
     "data": {
      "text/plain": [
       "paint_color\n",
       "purple     9844.222222\n",
       "green     13189.899522\n",
       "brown     13357.726542\n",
       "silver    13501.064154\n",
       "blue      14116.862864\n",
       "grey      15166.687958\n",
       "yellow    15564.847619\n",
       "custom    15587.215278\n",
       "red       17085.587092\n",
       "black     18253.635264\n",
       "orange    18285.788079\n",
       "white     20583.731894\n",
       "Name: price, dtype: float64"
      ]
     },
     "execution_count": 215,
     "metadata": {},
     "output_type": "execute_result"
    }
   ],
   "source": [
    "df.groupby('paint_color')['price'].mean().sort_values()"
   ]
  },
  {
   "cell_type": "markdown",
   "metadata": {},
   "source": [
    "### Evaluation\n",
    "\n",
    "With some modeling accomplished, we aim to reflect on what we identify as a high quality model and what we are able to learn from this.  We should review our business objective and explore how well we can provide meaningful insight on drivers of used car prices.  Your goal now is to distill your findings and determine whether the earlier phases need revisitation and adjustment or if you have information of value to bring back to your client."
   ]
  },
  {
   "cell_type": "markdown",
   "metadata": {},
   "source": [
    "The validation set MSE and MAE are calculated for all of the three models. Cross-validation are used. Based on the MSE and MAE results, the error decreased when more features are included. \n",
    "However, the odometer feature has very good correation with the used car price. It is roughly linear with the used car price based on the plot of the first model. \n",
    "So, odometer is the most critical factor for car price, more odometer gives lower price. \n",
    "Other critical features are size, year, condition. \n",
    "For manufacturer, ferrari, aston-martin, porsche are the top 3 expensive brands. \n",
    "For paint_color, white, orange, black are the top 3 expensive colors."
   ]
  },
  {
   "cell_type": "code",
   "execution_count": null,
   "metadata": {},
   "outputs": [],
   "source": []
  },
  {
   "cell_type": "markdown",
   "metadata": {},
   "source": [
    "### Deployment\n",
    "\n",
    "Now that we've settled on our models and findings, it is time to deliver the information to the client.  You should organize your work as a basic report that details your primary findings.  Keep in mind that your audience is a group of used car dealers interested in fine tuning their inventory."
   ]
  },
  {
   "cell_type": "markdown",
   "metadata": {},
   "source": [
    "To the client,\n",
    "\n",
    "The used car prices are generally linear with odometer, higher odometer gives lower car price. \n",
    "\n",
    "The average price with brands are ordered by: \n",
    "saturn              4862.760870\n",
    "mercury             5703.975309\n",
    "land rover          6975.000000\n",
    "fiat                9161.574468\n",
    "chrysler            9302.724609\n",
    "pontiac             9635.000000\n",
    "hyundai             9763.077029\n",
    "mini                9795.361446\n",
    "kia                 9893.818021\n",
    "mazda              10094.791005\n",
    "honda              10393.437912\n",
    "volkswagen         10675.943978\n",
    "volvo              11326.427966\n",
    "buick              11410.557423\n",
    "acura              11554.450000\n",
    "subaru             11755.411429\n",
    "nissan             11873.842839\n",
    "dodge              12327.353524\n",
    "jaguar             12379.048780\n",
    "lexus              13840.937824\n",
    "bmw                14017.300585\n",
    "lincoln            14236.369748\n",
    "toyota             14413.357357\n",
    "infiniti           15058.632743\n",
    "datsun             15499.666667\n",
    "cadillac           15542.771855\n",
    "audi               15790.200980\n",
    "mercedes-benz      16126.829177\n",
    "jeep               16263.902973\n",
    "mitsubishi         18477.720497\n",
    "harley-davidson    19023.428571\n",
    "chevrolet          19323.060525\n",
    "tesla              21250.500000\n",
    "ford               21961.639154\n",
    "rover              23731.082278\n",
    "alfa-romeo         23893.133333\n",
    "gmc                24493.267751\n",
    "ram                27417.069086\n",
    "porsche            31622.481481\n",
    "aston-martin       57280.000000\n",
    "ferrari            95829.444444\n",
    "\n",
    "The average price with paint color are ordered by:\n",
    "purple     9844.222222\n",
    "green     13189.899522\n",
    "brown     13357.726542\n",
    "silver    13501.064154\n",
    "blue      14116.862864\n",
    "grey      15166.687958\n",
    "yellow    15564.847619\n",
    "custom    15587.215278\n",
    "red       17085.587092\n",
    "black     18253.635264\n",
    "orange    18285.788079\n",
    "white     20583.731894\n",
    "\n",
    "You can use the two lists above to get more expensive manufacturer and color.\n",
    "\n",
    "If you have the information of odometer, year, cylinder, condition and size, you can use model 3 to predict the price of this car."
   ]
  },
  {
   "cell_type": "code",
   "execution_count": null,
   "metadata": {},
   "outputs": [],
   "source": []
  }
 ],
 "metadata": {
  "kernelspec": {
   "display_name": "Python 3 (ipykernel)",
   "language": "python",
   "name": "python3"
  },
  "language_info": {
   "codemirror_mode": {
    "name": "ipython",
    "version": 3
   },
   "file_extension": ".py",
   "mimetype": "text/x-python",
   "name": "python",
   "nbconvert_exporter": "python",
   "pygments_lexer": "ipython3",
   "version": "3.9.13"
  },
  "widgets": {
   "application/vnd.jupyter.widget-state+json": {
    "state": {},
    "version_major": 2,
    "version_minor": 0
   }
  }
 },
 "nbformat": 4,
 "nbformat_minor": 4
}
